{
 "cells": [
  {
   "cell_type": "code",
   "execution_count": 1,
   "id": "ecaa3e31-906a-476b-8c44-e0c5b16522b6",
   "metadata": {},
   "outputs": [],
   "source": [
    "import random\n",
    "random.seed(47)"
   ]
  },
  {
   "cell_type": "code",
   "execution_count": 2,
   "id": "4b2cc2ec-7245-4e58-8989-d39b76e2608f",
   "metadata": {},
   "outputs": [],
   "source": [
    "nums = [random.randint(-100, 100) for _ in range(100)]"
   ]
  },
  {
   "cell_type": "code",
   "execution_count": 3,
   "id": "266cf547-ca7b-49b9-af3d-157cd48c969e",
   "metadata": {},
   "outputs": [],
   "source": [
    "def kadane(nums):\n",
    "    if not nums:\n",
    "        return 0  # Handling edge case for an empty list\n",
    "\n",
    "    current_sum = 0\n",
    "    max_sum = nums[0]  # Start with the first element\n",
    "\n",
    "    for num in nums:\n",
    "        # Max of starting a new subarray or extending the current one\n",
    "        current_sum = max(num, current_sum + num)  \n",
    "        max_sum = max(max_sum, current_sum)  # Update max_sum\n",
    "\n",
    "    return max_sum"
   ]
  },
  {
   "cell_type": "code",
   "execution_count": 4,
   "id": "4f01daad-8b40-4e91-b2f3-d19d53162235",
   "metadata": {},
   "outputs": [],
   "source": [
    "def kadane_sliding_window(nums):\n",
    "    if not nums:  # Handle edge case for empty input\n",
    "        return 0, 0\n",
    "\n",
    "    max_sum = -float('inf')\n",
    "    cur_sum = 0\n",
    "    max_L, max_R = 0, 0\n",
    "    L = 0\n",
    "\n",
    "    for R, num in enumerate(nums):\n",
    "        # Reset cur_sum and update L if cur_sum goes negative\n",
    "        if cur_sum < 0:\n",
    "            cur_sum = 0\n",
    "            L = R\n",
    "        \n",
    "        # Add the current number to cur_sum\n",
    "        cur_sum += num\n",
    "\n",
    "        # Update max_sum and the indices if we find a new maximum\n",
    "        if cur_sum > max_sum:\n",
    "            max_sum = cur_sum\n",
    "            max_L = L\n",
    "            max_R = R\n",
    "\n",
    "    return max_L, max_R"
   ]
  },
  {
   "cell_type": "code",
   "execution_count": 5,
   "id": "4d029608-d3df-431c-a5e2-8421a27a23d9",
   "metadata": {},
   "outputs": [],
   "source": [
    "max_subarray_sum = kadane(nums)\n",
    "indices = kadane_sliding_window(nums)\n",
    "assert (\n",
    "    sum(nums[indices[0]: indices[1] + 1]) == max_subarray_sum\n",
    ")"
   ]
  },
  {
   "cell_type": "code",
   "execution_count": null,
   "id": "e09cf5cb-0bda-47af-acd9-b026546eb989",
   "metadata": {},
   "outputs": [],
   "source": []
  }
 ],
 "metadata": {
  "kernelspec": {
   "display_name": "Python 3 (ipykernel)",
   "language": "python",
   "name": "python3"
  },
  "language_info": {
   "codemirror_mode": {
    "name": "ipython",
    "version": 3
   },
   "file_extension": ".py",
   "mimetype": "text/x-python",
   "name": "python",
   "nbconvert_exporter": "python",
   "pygments_lexer": "ipython3",
   "version": "3.12.8"
  }
 },
 "nbformat": 4,
 "nbformat_minor": 5
}
